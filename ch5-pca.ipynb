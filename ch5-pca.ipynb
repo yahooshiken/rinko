{
 "cells": [
  {
   "cell_type": "markdown",
   "id": "b69a73bb-4109-4455-8981-233bcf0ad536",
   "metadata": {},
   "source": [
    "# 第5章 次元削減でデータを圧縮する\n",
    "\n",
    "## ゴール\n",
    "次元削減の手法として、特徴抽出がある。本章では特徴抽出で代表的な以下の項目について理解する。\n",
    "- 教師なしデータ圧縮での主成分分析（PCA）\n",
    "- クラスの分離を最大化する教師あり次元削減方としての線形判別分析（LDA）\n",
    "- カーネル主成分分析（KPCA）による非線形次元削減"
   ]
  },
  {
   "cell_type": "markdown",
   "id": "94673e75-a209-4acf-a559-acb68024445f",
   "metadata": {},
   "source": [
    "## 主成分分析\n",
    "\n",
    "### アプローチ\n",
    "1. $d$ 次元のデータセットを標準化する\n",
    "2. 標準化したデータセットの共分散行列を作成する\n",
    "3. 共分散行列を固有ベクトルと固有値に分散する\n",
    "4. 固有値を降順でソートすることで、対応する固有ベクトルをランク付けする\n",
    "5. 最も大きい $k$ 個の固有値に対応する $k$ 個の固有ベクトルを選択する\n",
    "6. 上位 $k$ 個の固有ベクトルから射影行列 $\\boldsymbol{W}$を作成する\n",
    "7. 射影行列 $\\boldsymbol{W}$ を使って $d$ 次元の入力データセット $\\boldsymbol{X}$ を変換し、新しい $k$ 次元の特徴部分空間を取得する"
   ]
  },
  {
   "cell_type": "markdown",
   "id": "5daf7e40-f1c6-4d0d-831d-8b20c34c4f1a",
   "metadata": {},
   "source": [
    "#### データの用意\n",
    "- Wine データセットを読み込む（特徴量: 13次元、クラスラベル: 3）\n",
    "- 訓練データとテストデータを7:3で分割する\n",
    "- 分散が1になるように標準化する"
   ]
  },
  {
   "cell_type": "code",
   "execution_count": 36,
   "id": "e1eb157b-98dc-496f-ae46-25451bfb4a31",
   "metadata": {},
   "outputs": [
    {
     "name": "stdout",
     "output_type": "stream",
     "text": [
      "[data]\n",
      "\n",
      "- features:  13\n",
      "  -  alcohol\n",
      "  -  malic_acid\n",
      "  -  ash\n",
      "  -  alcalinity_of_ash\n",
      "  -  magnesium\n",
      "  -  total_phenols\n",
      "  -  flavanoids\n",
      "  -  nonflavanoid_phenols\n",
      "  -  proanthocyanins\n",
      "  -  color_intensity\n",
      "  -  hue\n",
      "  -  od280/od315_of_diluted_wines\n",
      "  -  proline\n",
      "\n",
      "- targets:  3\n",
      "  -  class_0\n",
      "  -  class_1\n",
      "  -  class_2\n"
     ]
    }
   ],
   "source": [
    "from sklearn.datasets import load_wine\n",
    "from sklearn.model_selection import train_test_split\n",
    "from sklearn.preprocessing import StandardScaler\n",
    "\n",
    "data = load_wine()\n",
    "\n",
    "print('[data]')\n",
    "print('\\n- features: ', len(data.feature_names))\n",
    "for feature in data.feature_names:\n",
    "    print('  - ', feature)\n",
    "print('\\n- targets: ', len(data.target_names))\n",
    "for target in data.target_names:\n",
    "    print('  - ', target)\n",
    "\n",
    "X = data.data\n",
    "y = data.target\n",
    "\n",
    "X_train, X_test, y_train, y_test = train_test_split(X, y, test_size=0.3, stratify=y, random_state=0)\n",
    "\n",
    "ss = StandardScaler()\n",
    "X_train_std = ss.fit_transform(X_train)\n",
    "X_test_std = ss.transform(X_test)"
   ]
  },
  {
   "cell_type": "markdown",
   "id": "b221f6b4-7127-4aff-9e33-cb70f0a09f69",
   "metadata": {},
   "source": [
    "#### 共分散行列を作成し、固有値を取得\n",
    "\n",
    "共分散行列の固有ベクトルが主成分（分散が最大となる方向）を表し、対応する固有値はそれらの大きさを定義する。\n",
    "- 標準化した訓練データを用いて、$13\\times13$次元の共分散行列を作成\n",
    "- 共分散行列から、13個の固有値と13本の固有ベクトルを得る。"
   ]
  },
  {
   "cell_type": "code",
   "execution_count": 64,
   "id": "b8c7361c-94cb-434f-a2bc-d4cca3a450aa",
   "metadata": {},
   "outputs": [
    {
     "name": "stdout",
     "output_type": "stream",
     "text": [
      "Eigen values[0]:  4.8427453156558915\n",
      "Eigen vectors[0]:  [-0.13724218  0.50303478 -0.13774873 -0.0032961  -0.29062523  0.29909685\n",
      "  0.07905293 -0.36817641 -0.39837702 -0.09448698  0.37463888 -0.12783451\n",
      "  0.26283426]\n"
     ]
    }
   ],
   "source": [
    "import numpy as np\n",
    "\n",
    "\n",
    "cov_mat = np.cov(X_train_std.T) # (13, 13)\n",
    "eigen_vals, eigen_vecs = np.linalg.eig(cov_mat)  # (13,), (13, 13) \n",
    "print('Eigen values[0]: ', eigen_vals[0])\n",
    "print('Eigen vectors[0]: ', eigen_vecs[0])"
   ]
  },
  {
   "cell_type": "markdown",
   "id": "07124e94-3dcb-441d-b095-07e0d88fd7ba",
   "metadata": {},
   "source": [
    "#### 分散説明率をプロット\n",
    "データに含まれる大半の情報（分散）を含んでいる固有ベクトル（主成分）だけを選択する。\n",
    "固有値は固有ベクトルの大きさを表すため、大きいものから順に降順で並べ替える必要がある。\n",
    "\n",
    "固有値$\\lambda_j$の分散説明率は以下で定義される。固有値の合計に対する固有値$\\lambda_j$の割合を意味する。\n",
    "\n",
    "$$\n",
    "\\frac{\\lambda_j}{\\sum^d_{i=1}\\lambda_i}\n",
    "$$"
   ]
  },
  {
   "cell_type": "code",
   "execution_count": 65,
   "id": "091a59aa-6ad0-4630-b0da-3950061e067a",
   "metadata": {},
   "outputs": [
    {
     "data": {
      "image/png": "[encoded data removed]",
      "text/plain": [
       "<Figure size 432x288 with 1 Axes>"
      ]
     },
     "metadata": {
      "needs_background": "light"
     },
     "output_type": "display_data"
    }
   ],
   "source": [
    "# 固有値の合計\n",
    "total = sum(eigen_vals)\n",
    "# 分散説明率\n",
    "var_exp = [(i / total) for i in sorted(eigen_vals, reverse=True)]\n",
    "# 分散説明率の累積和\n",
    "cum_var_exp = np.cumsum(var_exp)\n",
    "\n",
    "import matplotlib.pyplot as plt\n",
    "plt.bar(range(1, 14), var_exp, alpha=0.5, align='center', label='indiividual explained variance')\n",
    "plt.step(range(1, 14), cum_var_exp, where='mid', label='cumulative explained variance')\n",
    "plt.xlabel('Explained variance ratio')\n",
    "plt.ylabel('Principal component index')\n",
    "plt.legend(loc='best')\n",
    "plt.tight_layout()\n",
    "plt.show()"
   ]
  },
  {
   "cell_type": "markdown",
   "id": "817e6597-8b0d-465e-b757-7f1ee6d91043",
   "metadata": {},
   "source": [
    "#### 特徴変換\n",
    "\n",
    "- 固有値の大きい順に (固有値, 固有ベクトル) のペアを並び替える\n",
    "- 上位$k$個の固有ベクトルから射影行列$\\boldsymbol{W}$を作成する\n",
    "- 射影行列を利用して、$\\boldsymbol{x}\\in \\mathbb{R}^{13}$を新しい特徴量からなる2次元のベクトル$\\boldsymbol{x'}\\in\\mathbb{R}^2$を作成する\n",
    "\n",
    "$$\n",
    "\\boldsymbol{x'} = \\boldsymbol{x}\\boldsymbol{W}\n",
    "$$"
   ]
  },
  {
   "cell_type": "code",
   "execution_count": 98,
   "id": "7f2843fd-4e9f-4fc0-a69b-8d9c06cab0c5",
   "metadata": {},
   "outputs": [
    {
     "name": "stdout",
     "output_type": "stream",
     "text": [
      "Eigen Pairs[0] \n",
      " (4.8427453156558915, array([-0.13724218,  0.24724326, -0.02545159,  0.20694508, -0.15436582,\n",
      "       -0.39376952, -0.41735106,  0.30572896, -0.30668347,  0.07554066,\n",
      "       -0.32613263, -0.36861022, -0.29669651]))\n",
      "\n",
      "Matrix W: \n",
      " [[-0.13724218  0.50303478]\n",
      " [ 0.24724326  0.16487119]\n",
      " [-0.02545159  0.24456476]\n",
      " [ 0.20694508 -0.11352904]\n",
      " [-0.15436582  0.28974518]\n",
      " [-0.39376952  0.05080104]\n",
      " [-0.41735106 -0.02287338]\n",
      " [ 0.30572896  0.09048885]\n",
      " [-0.30668347  0.00835233]\n",
      " [ 0.07554066  0.54977581]\n",
      " [-0.32613263 -0.20716433]\n",
      " [-0.36861022 -0.24902536]\n",
      " [-0.29669651  0.38022942]]\n",
      "\n",
      "X_train_pca.shape:  (124, 2)\n"
     ]
    }
   ],
   "source": [
    "eigen_pairs = [(np.abs(eigen_vals[i]), eigen_vecs[:, i]) for i in range(len(eigen_vals))]\n",
    "print('Eigen Pairs[0] \\n', eigen_pairs[0])\n",
    "\n",
    "# 固有値の降順に並び替え\n",
    "eigen_pairs.sort(key=lambda k: k[0], reverse=True)\n",
    "\n",
    "k = 2\n",
    "w = np.hstack((eigen_pairs[0][1][:, np.newaxis], eigen_pairs[1][1][:, np.newaxis]))\n",
    "\n",
    "print('\\nMatrix W: \\n', w)\n",
    "\n",
    "X_train_pca = X_train_std.dot(w) # (124, 2)\n",
    "\n",
    "print('\\nX_train_pca.shape: ', X_train_pca.shape)"
   ]
  },
  {
   "cell_type": "code",
   "execution_count": 105,
   "id": "f0267b3b-5991-4748-80c5-8507e9f4935c",
   "metadata": {},
   "outputs": [
    {
     "data": {
      "image/png": "[encoded data removed]",
      "text/plain": [
       "<Figure size 432x288 with 1 Axes>"
      ]
     },
     "metadata": {
      "needs_background": "light"
     },
     "output_type": "display_data"
    }
   ],
   "source": [
    "colors = ['r', 'b', 'g']\n",
    "markers = ['s', 'x', 'o']\n",
    "\n",
    "for l, c, m in zip(np.unique(y_train), colors, markers):\n",
    "    plt.scatter(X_train_pca[y_train==l, 0], X_train_pca[y_train==l, 1], c=c, label=l, marker=m)\n",
    "\n",
    "plt.xlabel('PC1')\n",
    "plt.xlabel('PC2')\n",
    "plt.legend(loc='best')\n",
    "plt.tight_layout()\n",
    "plt.show()"
   ]
  },
  {
   "cell_type": "markdown",
   "id": "e9a1851a-d23c-4265-9d68-d58975a95e99",
   "metadata": {},
   "source": [
    "#### scikit-learn による主成分分析\n",
    "- transformer クラスの一つである`PCA`クラスを利用する\n",
    "- PCAを適用する前に、訓練データ・テストデータの標準化までは済ませておく"
   ]
  },
  {
   "cell_type": "code",
   "execution_count": 119,
   "id": "a5e548d2-68da-47c3-9d57-99b817d11b66",
   "metadata": {},
   "outputs": [],
   "source": [
    "from matplotlib.colors import ListedColormap\n",
    "\n",
    "def plot_decision_regions(X, y, classifier, resolution=0.02):\n",
    "    markers = ('s', 'x', 'o', '^', 'v')\n",
    "    colors = ('red', 'blue', 'lightgreen', 'gray', 'cyan')\n",
    "    cmap = ListedColormap(colors[:len(np.unique(y))])\n",
    "    \n",
    "    # plot the decision surface\n",
    "    x1_min, x1_max = X[:, 0].min() - 1, X[:, 0].max() + 1\n",
    "    x2_min, x2_max = X[:, 1].min() - 1, X[:, 1].max() + 1\n",
    "    xx1, xx2 = np.meshgrid(np.arange(x1_min, x1_max, resolution),\n",
    "                           np.arange(x2_min, x2_max, resolution))\n",
    "    \n",
    "    Z = classifier.predict(np.array([xx1.ravel(), xx2.ravel()]).T)\n",
    "    Z = Z.reshape(xx1.shape)\n",
    "    plt.contourf(xx1, xx2, Z, alpha=0.4, cmap=cmap)\n",
    "    plt.xlim(xx1.min(), xx1.max())\n",
    "    plt.ylim(xx2.min(), xx2.max())\n",
    "    \n",
    "    for idx, cl in enumerate(np.unique(y)):\n",
    "        plt.scatter(x=X[y == cl, 0], \n",
    "                    y=X[y == cl, 1],\n",
    "                    alpha=0.6, \n",
    "                    color=cmap(idx),\n",
    "                    marker=markers[idx], \n",
    "                    label=cl)"
   ]
  },
  {
   "cell_type": "code",
   "execution_count": 122,
   "id": "38186444-0e45-4f56-b4ca-cef00e634807",
   "metadata": {},
   "outputs": [
    {
     "data": {
      "image/png": "[encoded data removed]",
      "text/plain": [
       "<Figure size 432x288 with 1 Axes>"
      ]
     },
     "metadata": {
      "needs_background": "light"
     },
     "output_type": "display_data"
    }
   ],
   "source": [
    "from sklearn.linear_model import LogisticRegression\n",
    "from sklearn.decomposition import PCA\n",
    "\n",
    "# PCAを適用する前に、事前に訓練データ、テストデータの標準化までは済ませておく\n",
    "\n",
    "k = 2 # 主成分数 n_components を指定\n",
    "\n",
    "pca = PCA(n_components=k)\n",
    "lr = LogisticRegression()\n",
    "X_train_pca = pca.fit_transform(X_train_std)\n",
    "X_test_pca = pca.transform(X_test_std)\n",
    "\n",
    "lr.fit(X_train_pca, y_train)\n",
    "\n",
    "plot_decision_regions(X_train_pca, y_train, classifier=lr)\n",
    "plt.xlabel('PC1')\n",
    "plt.ylabel('PC2')\n",
    "plt.legend()\n",
    "plt.show()"
   ]
  },
  {
   "cell_type": "code",
   "execution_count": null,
   "id": "c36d9be5-a1ce-4c2d-a597-7c011496b8b4",
   "metadata": {},
   "outputs": [],
   "source": []
  }
 ],
 "metadata": {
  "kernelspec": {
   "display_name": "Python 3",
   "language": "python",
   "name": "python3"
  },
  "language_info": {
   "codemirror_mode": {
    "name": "ipython",
    "version": 3
   },
   "file_extension": ".py",
   "mimetype": "text/x-python",
   "name": "python",
   "nbconvert_exporter": "python",
   "pygments_lexer": "ipython3",
   "version": "3.9.2"
  }
 },
 "nbformat": 4,
 "nbformat_minor": 5
}