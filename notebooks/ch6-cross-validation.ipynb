{
 "metadata": {
  "language_info": {
   "codemirror_mode": {
    "name": "ipython",
    "version": 3
   },
   "file_extension": ".py",
   "mimetype": "text/x-python",
   "name": "python",
   "nbconvert_exporter": "python",
   "pygments_lexer": "ipython3",
   "version": "3.9.2"
  },
  "orig_nbformat": 2,
  "kernelspec": {
   "name": "pythonjvsc74a57bd07149cd8da243aec224284aa32144bf5e6b291f596bc47611cbc698eb92ba5249",
   "display_name": "Python 3.9.2  ('.venv': pipenv)"
  },
  "metadata": {
   "interpreter": {
    "hash": "7149cd8da243aec224284aa32144bf5e6b291f596bc47611cbc698eb92ba5249"
   }
  }
 },
 "nbformat": 4,
 "nbformat_minor": 2,
 "cells": [
  {
   "source": [
    "## 6.2 k分割交差検証を使ったモデル性能評価\n",
    "\n",
    "- 訓練データに対してモデルが単純すぎると学習不足、複雑すぎると過学習に陥る\n",
    "  - モデルにとって未知のデータを使用してモデル評価を行う必要がある\n",
    "- 代表的なモデルの評価方法\n",
    "  - ホールドアウト法\n",
    "  - k分割交差検証\n",
    "\n",
    "### 6.2.1 ホールドアウト法\n",
    "\n",
    "データを訓練データ、検証データ、テストデータに分割する\n",
    "- メリット\n",
    "  - 未知のデータに対するモデルの汎化能力のバイアスが低くなる\n",
    "- デメリット\n",
    "  - データの抽出方法によって評価が変わる\n",
    "  - 訓練データセットと検証データセットをどのように分割するかによって、性能の評価に影響が及ぶ\n",
    "\n",
    "1. もともとのデータを訓練データセット・テストデータセットに分ける\n",
    "2. 訓練データセットを訓練データセット・検証データセット（8:2）\n",
    "  - 検証データセットはハイパーパラメータの調整に使われる\n",
    "  - テストデータセットは最後の評価に行われる\n",
    "\n",
    "### 6.2.2 k分割交差検証法\n",
    "ホールドアウト法を改良した手法（ホールドアウト法をk回繰り返す）\n",
    "\n",
    "- メリット\n",
    "  - バリアンスが低い結果が得られる\n",
    "- デメリット\n",
    "  - 学習回数が増えるため、実行時間が長くなる\n",
    "\n",
    "1. 非復元抽出を用いて、訓練データセットをランダムにk個に分割して、k-1個を訓練に使い、1個を評価に使う\n",
    "2. モデルの訓練と評価をk回繰り返す\n",
    "3. k個のモデルの平均性能を計算\n",
    "\n",
    "#### 層化k分割交差検証\n",
    "\n",
    "各サブセットのクラスラベルの比率が維持されたまま分割される  \n",
    "→評価のバイアスとバリアンスが改善される\n",
    "\n",
    "\n",
    "\n"
   ],
   "cell_type": "markdown",
   "metadata": {}
  },
  {
   "cell_type": "code",
   "execution_count": 3,
   "metadata": {},
   "outputs": [],
   "source": [
    "from sklearn.datasets import load_breast_cancer\n",
    "from sklearn.model_selection import train_test_split\n",
    "\n",
    "data = load_breast_cancer()\n",
    "\n",
    "X = data.data\n",
    "y = data.target\n",
    "\n",
    "X_train, X_test, y_train, y_test = train_test_split(X, y, test_size=0.2, random_state=1, stratify=y)"
   ]
  },
  {
   "cell_type": "code",
   "execution_count": 17,
   "metadata": {},
   "outputs": [],
   "source": [
    "from sklearn.pipeline import make_pipeline\n",
    "from sklearn.preprocessing import StandardScaler\n",
    "from sklearn.decomposition import PCA\n",
    "from sklearn.linear_model import LogisticRegression\n",
    "\n",
    "pipe_lr = make_pipeline(\n",
    "    StandardScaler(),\n",
    "    PCA(n_components=10),\n",
    "    LogisticRegression(penalty='l2', random_state=10, solver='lbfgs')\n",
    ")"
   ]
  },
  {
   "cell_type": "code",
   "execution_count": 18,
   "metadata": {},
   "outputs": [
    {
     "output_type": "stream",
     "name": "stdout",
     "text": [
      "Fold:  1, Class dist.: [153 256], Acc: 0.978\nFold:  2, Class dist.: [153 256], Acc: 1.000\nFold:  3, Class dist.: [153 256], Acc: 0.957\nFold:  4, Class dist.: [153 256], Acc: 0.978\nFold:  5, Class dist.: [153 256], Acc: 0.978\nFold:  6, Class dist.: [153 257], Acc: 1.000\nFold:  7, Class dist.: [153 257], Acc: 0.978\nFold:  8, Class dist.: [153 257], Acc: 0.978\nFold:  9, Class dist.: [153 257], Acc: 0.933\nFold: 10, Class dist.: [153 257], Acc: 1.000\n\nCV accuracy: 0.978 +/- 0.020\n"
     ]
    }
   ],
   "source": [
    "import numpy as np\n",
    "from sklearn.model_selection import StratifiedKFold\n",
    "\n",
    "kfold = StratifiedKFold(n_splits=10).split(X_train, y_train)\n",
    "\n",
    "scores = []\n",
    "\n",
    "for k, (train, test) in enumerate(kfold):\n",
    "    pipe_lr.fit(X_train[train], y_train[train])\n",
    "    score = pipe_lr.score(X_train[test], y_train[test])\n",
    "    scores.append(score)\n",
    "    print('Fold: {:2d}, Class dist.: {}, Acc: {:.3f}'.format(k+1, np.bincount(y_train[train]), score))\n",
    "\n",
    "print('\\nCV accuracy: {:.3f} +/- {:.3f}'.format(np.mean(scores), np.std(scores)))"
   ]
  },
  {
   "cell_type": "code",
   "execution_count": 26,
   "metadata": {},
   "outputs": [
    {
     "output_type": "stream",
     "name": "stdout",
     "text": [
      "CV accuracy scores:\n - 1: 0.9782608695652174\n - 2: 1.0\n - 3: 0.9565217391304348\n - 4: 0.9782608695652174\n - 5: 0.9782608695652174\n - 6: 1.0\n - 7: 0.9777777777777777\n - 8: 0.9777777777777777\n - 9: 0.9333333333333333\n - 10: 1.0\n\nCV accuracy: 0.978 +/- 0.020\n"
     ]
    }
   ],
   "source": [
    "from sklearn.model_selection import cross_val_score\n",
    "\n",
    "scores = cross_val_score(estimator=pipe_lr, X=X_train, y=y_train, cv=10, n_jobs=1)\n",
    "\n",
    "print('CV accuracy scores:')\n",
    "for k, score in enumerate(scores):\n",
    "    print(' - {}: {}'.format(k+1, score))\n",
    "    \n",
    "print('\\nCV accuracy: {:.3f} +/- {:.3f}'.format(np.mean(scores), np.std(scores)))"
   ]
  },
  {
   "cell_type": "code",
   "execution_count": null,
   "metadata": {},
   "outputs": [],
   "source": []
  }
 ]
}