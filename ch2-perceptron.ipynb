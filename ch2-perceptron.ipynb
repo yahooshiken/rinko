{
 "cells": [
  {
   "cell_type": "markdown",
   "metadata": {
    "colab_type": "text",
    "id": "view-in-github"
   },
   "source": [
    "<a href=\"https://colab.research.google.com/github/yahooshiken/rinko/blob/master/ch2-perceptron.ipynb\" target=\"_parent\"><img src=\"https://colab.research.google.com/assets/colab-badge.svg\" alt=\"Open In Colab\"/></a>"
   ]
  },
  {
   "cell_type": "markdown",
   "metadata": {},
   "source": [
    "# 第2章 分類問題 単純な機械学習アルゴリズムのトレーニング\n",
    "\n",
    "## 本章のゴール\n",
    "- 初期の機械学習アルゴリズムであるパーセプトロンと ADALINE を分類問題に適用する。\n",
    "- Iris データセットに含まれているアヤメの品種を分類できるように、パーセプトロンを実装する。\n",
    "- ADALINE を用いた最適化の基礎について理解する。\n",
    "\n",
    "## パーセプトロン\n",
    "Frank Rosenblatt は1957年にMCPニューロンモデルに基づくパーセプトロンの学習則に関する最初の概念を発表した。そのアルゴリズムとは、最適な重み係数を自動的に学習した後、入力信号と掛け合わせ、ニューロンが発火するかを判断するものだった。\n",
    "\n",
    "## 人工ニューロンの定義\n",
    "形式的に、人工ニューロンの概念を二値分類タスクとして捉える。分類すべき2つのクラスを $1$、$-1$ とすると決定関数 $\\phi(z)$ を定義でき、特定の入力値 $\\boldsymbol{x}$ と対応する重みベクトル $\\boldsymbol{w}$ の線形結合を引数として受け取る。すなわち、決定関数 $\\phi(z)$ の引数 $z$ は以下の形式で表すことができる。\n",
    "\n",
    "$z = w_1x_1 + w_2x_2 + \\dots + w_mx_m$\n",
    "\n",
    "ここで、サンプル $x^{(i)}$ に対する総入力 $z$ が、指定されたしきい値 $\\theta$ よりも大きい場合、$1$ のクラスを予測し、そうでない場合は $-1$ のクラスを予測する。パーセプトロンのアルゴリズムでは、決定関数$\\phi$は、単位ステップ関数が用いられる。\n",
    "\n",
    "$\\phi(z) = \\begin{cases} 1 & (z \\geq \\theta)\\\\ -1 & (z \\leq \\theta) \\end{cases}$\n",
    "\n",
    "また $w_0 = -\\theta$、$x_0 = 1$ とすると\n",
    "\n",
    "$z = w_0x_0 + w_1x_1 + \\dots + w_mx_m = \\boldsymbol{w}^T\\boldsymbol{x}$\n",
    "\n",
    "$\\phi(z) = \\begin{cases} 1 & (z \\geq 0)\\\\ -1 & (z \\leq 0) \\end{cases}$\n",
    "\n",
    "## パーセプトロンの学習規則\n",
    "1. 重みを 0 または値の小さい乱数で初期化する\n",
    "2. トレーニングサンプル $\\boldsymbol{x}^{(i)}$ ごとに次の手順を実行する\n",
    "    1. 出力値 $\\hat{y}$ を計算する\n",
    "    2. 重みを更新する\n",
    "    \n",
    "ここで、出力値は決定関数によって予測されるクラスラベルである。重みベクトル $\\boldsymbol{w}$ の各重み $w_j$ は同時に更新するが、より正式には次のように記述する。\n",
    "\n",
    "$$\n",
    "w_j = w_j + \\Delta w_j \\\\\n",
    "\\Delta w_j = \\eta (y^{(i)} - \\hat{y}^{(i)})x_j^{(i)}\n",
    "$$\n",
    "\n",
    "ここで、 $\\eta$ は学習率であり、 $y^{(i)}$ は $i$ 番目のトレーニングサンプルの真のクラスラベル、$\\hat{y}^{(i)}$ は予測されたクラスラベルである。\n",
    "\n",
    "パーセプトロンがクラスラベルを正しく予測する場合、すなわち $y^{(i)} = \\hat{y}^{(i)}$ の場合、重みは変化しない（$\\Delta w_j = 0$）。予測が間違っていた場合のみ、目的とする正または負のクラスの方向に向かうように重みが計算される。\n",
    "\n",
    "## パーセプトロンの収束\n",
    "\n",
    "パーセプトロンの収束が保証されるのは、\n",
    "- 2つのクラスが線形分離可能\n",
    "- 学習率が十分に小さい\n",
    "場合に限られる。線形分離可能でない場合にはエポックや誤分類の最大数を指定する。\n"
   ]
  },
  {
   "cell_type": "code",
   "execution_count": 229,
   "metadata": {
    "id": "pxY2BBZGHleO"
   },
   "outputs": [],
   "source": [
    "import numpy as np\n",
    "\n",
    "class Perceptron(object):\n",
    "  def __init__(self, eta=0.01, n_iter=50, random_state=1):\n",
    "    self.eta = eta\n",
    "    self.n_iter = n_iter\n",
    "    self.random_state = random_state\n",
    "  \n",
    "  def fit (self, X, y):\n",
    "    rgen = np.random.RandomState(self.random_state)\n",
    "    self.w_ = rgen.normal(loc=0.0, scale=0.01, size=1 + X.shape[1])\n",
    "    self.errors_ = []\n",
    "\n",
    "    for _ in range(self.n_iter):\n",
    "      errors = 0\n",
    "      for xi, target in zip(X, y):\n",
    "        update = self.eta * (target - self.predict(xi))\n",
    "        self.w_[1:] += update * xi\n",
    "        self.w_[0] += update\n",
    "        errors += int(update != 0.0)\n",
    "      \n",
    "      self.errors_.append(errors)\n",
    "    \n",
    "    return self\n",
    "\n",
    "  def net_input(self, X):\n",
    "    return np.dot(X, self.w_[1:]) + self.w_[0]\n",
    "\n",
    "\n",
    "  def predict(self, X):\n",
    "    return np.where(self.net_input(X) >= 0.0, 1, -1)\n"
   ]
  },
  {
   "cell_type": "code",
   "execution_count": 230,
   "metadata": {
    "colab": {
     "base_uri": "https://localhost:8080/",
     "height": 241
    },
    "id": "tyIyfpWmJtK0",
    "outputId": "330629c4-c454-4a19-bd7a-f777473512db"
   },
   "outputs": [
    {
     "name": "stdout",
     "output_type": "stream",
     "text": [
      "dict_keys(['data', 'target', 'frame', 'target_names', 'DESCR', 'feature_names', 'filename'])\n"
     ]
    }
   ],
   "source": [
    "import os\n",
    "import numpy as np\n",
    "import pandas as pd \n",
    "from sklearn.datasets import load_iris\n",
    "\n",
    "iris_data = load_iris()\n",
    "print(iris_data.keys())\n",
    "\n",
    "X = pd.DataFrame(iris_data.data)[:100]\n",
    "X = X.iloc[:, [0, 2]].values\n",
    "\n",
    "y = pd.DataFrame(iris_data.target)[:100]\n",
    "y = y.replace({0: 1, 1: -1}).values.flatten()"
   ]
  },
  {
   "cell_type": "code",
   "execution_count": 231,
   "metadata": {
    "colab": {
     "base_uri": "https://localhost:8080/",
     "height": 279
    },
    "id": "FpR7lq4oK3gV",
    "outputId": "e0e27a0a-f262-4477-c818-2a59ef441503"
   },
   "outputs": [
    {
     "data": {
      "image/png": "[encoded data removed]",
      "text/plain": [
       "<Figure size 432x288 with 1 Axes>"
      ]
     },
     "metadata": {
      "needs_background": "light"
     },
     "output_type": "display_data"
    }
   ],
   "source": [
    "%matplotlib inline\n",
    "import matplotlib.pyplot as plt\n",
    "import numpy as np\n",
    "\n",
    "# plot data\n",
    "plt.scatter(X[:50, 0], X[:50, 1], color='red', marker='o', label='setosa')\n",
    "plt.scatter(X[50:100, 0], X[50:100, 1], color='blue', marker='x', label='versicolor')\n",
    "\n",
    "plt.xlabel('sepal length [cm]')\n",
    "plt.ylabel('petal length [cm]')\n",
    "plt.legend(loc='upper left')\n",
    "\n",
    "plt.show()"
   ]
  },
  {
   "cell_type": "code",
   "execution_count": 232,
   "metadata": {
    "colab": {
     "base_uri": "https://localhost:8080/",
     "height": 279
    },
    "id": "P8s2DjRsK5Al",
    "outputId": "56581cfc-46df-4834-eec0-6c2ec827e69f"
   },
   "outputs": [
    {
     "data": {
      "image/png": "[encoded data removed]",
      "text/plain": [
       "<Figure size 432x288 with 1 Axes>"
      ]
     },
     "metadata": {
      "needs_background": "light"
     },
     "output_type": "display_data"
    }
   ],
   "source": [
    "ppn = Perceptron(eta=0.1, n_iter=10)\n",
    "\n",
    "ppn.fit(X, y)\n",
    "\n",
    "plt.plot(range(1, len(ppn.errors_) + 1), ppn.errors_, marker='o')\n",
    "plt.xlabel('Epochs')\n",
    "plt.ylabel('Number of updatses')\n",
    "\n",
    "# plt.savefig('images/02_07.png', dpi=300)\n",
    "plt.show()"
   ]
  },
  {
   "cell_type": "code",
   "execution_count": 255,
   "metadata": {},
   "outputs": [],
   "source": [
    "from matplotlib.colors import ListedColormap\n",
    "\n",
    "def plot_decision_regions(X, y, classifier, resolution=0.02):\n",
    "    markers = ('s', 'o', '^', 'v', 'x')\n",
    "    colors = ('red', 'blue', 'lightgreen', 'gray', 'cyan')\n",
    "    color_map = ListedColormap(colors[:len(np.unique(y))])\n",
    "    \n",
    "    x1_min, x1_max = X[:, 0].min() - 1, X[:, 0].max() + 1\n",
    "    x2_min, x2_max = X[:, 1].min() - 1, X[:, 1].max() + 1\n",
    "    \n",
    "    xx1, xx2 = np.meshgrid(np.arange(x1_min, x1_max, resolution), np.arange(x2_min, x2_max, resolution))\n",
    "    \n",
    "    Z = classifier.predict(np.array([xx1.ravel(), xx2.ravel()]).T)\n",
    "    Z = Z.reshape(xx1.shape)\n",
    "    plt.contourf(xx1, xx2, Z, alpha=0.3, cmap=color_map)\n",
    "    plt.xlim(xx1.min(), xx1.max())\n",
    "    plt.ylim(xx2.min(), xx2.max())\n",
    "    \n",
    "    for idx, cl in enumerate(np.unique(y)):\n",
    "        plt.scatter(\n",
    "            x=X[y == cl, 0],\n",
    "            y=X[y == cl, 1],\n",
    "            alpha=0.8,\n",
    "            c=colors[idx],\n",
    "            label=cl,\n",
    "            marker=markers[idx],\n",
    "            edgecolor='black')\n",
    "    "
   ]
  },
  {
   "cell_type": "code",
   "execution_count": 256,
   "metadata": {},
   "outputs": [
    {
     "data": {
      "image/png": "[encoded data removed]",
      "text/plain": [
       "<Figure size 432x288 with 1 Axes>"
      ]
     },
     "metadata": {
      "needs_background": "light"
     },
     "output_type": "display_data"
    }
   ],
   "source": [
    "plot_decision_regions(X, y, classifier=ppn)\n",
    "plt.show()"
   ]
  }
 ],
 "metadata": {
  "colab": {
   "authorship_tag": "ABX9TyNqCMs1wXOxCp1R1xx45Yi5",
   "collapsed_sections": [],
   "include_colab_link": true,
   "name": "rinko.ipynb",
   "provenance": []
  },
  "kernelspec": {
   "display_name": "Python 3",
   "language": "python",
   "name": "python3"
  },
  "language_info": {
   "codemirror_mode": {
    "name": "ipython",
    "version": 3
   },
   "file_extension": ".py",
   "mimetype": "text/x-python",
   "name": "python",
   "nbconvert_exporter": "python",
   "pygments_lexer": "ipython3",
   "version": "3.9.2"
  }
 },
 "nbformat": 4,
 "nbformat_minor": 4
}
